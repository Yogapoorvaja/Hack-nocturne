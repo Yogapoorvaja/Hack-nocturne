{
  "nbformat": 4,
  "nbformat_minor": 0,
  "metadata": {
    "colab": {
      "provenance": []
    },
    "kernelspec": {
      "name": "python3",
      "display_name": "Python 3"
    },
    "language_info": {
      "name": "python"
    }
  },
  "cells": [
    {
      "cell_type": "markdown",
      "source": [
        "**Importing the Libraries:**"
      ],
      "metadata": {
        "id": "k7IPoC-xqzhS"
      }
    },
    {
      "cell_type": "code",
      "execution_count": 39,
      "metadata": {
        "id": "CqncPFdJhYm6"
      },
      "outputs": [],
      "source": [
        "import numpy as np\n",
        "import pandas as pd\n",
        "import matplotlib.pyplot as plt\n",
        "from sklearn.model_selection import train_test_split\n",
        "from sklearn.preprocessing import StandardScaler\n",
        "from sklearn.ensemble import RandomForestClassifier\n",
        "from sklearn.ensemble import RandomForestRegressor\n",
        "from sklearn.metrics import mean_absolute_error, mean_squared_error, r2_score"
      ]
    },
    {
      "cell_type": "markdown",
      "source": [
        "**Uploading the Dataset:**"
      ],
      "metadata": {
        "id": "ZON6-MPwq43T"
      }
    },
    {
      "cell_type": "code",
      "source": [
        "file_path = \"/content/parkinsons_updrs.data\"\n",
        "df = pd.read_csv(file_path)"
      ],
      "metadata": {
        "id": "IKWfLhGOhrhI"
      },
      "execution_count": 2,
      "outputs": []
    },
    {
      "cell_type": "markdown",
      "source": [
        "**Dataset View:**"
      ],
      "metadata": {
        "id": "m9GvHN2Uq89y"
      }
    },
    {
      "cell_type": "code",
      "source": [
        "df\n"
      ],
      "metadata": {
        "colab": {
          "base_uri": "https://localhost:8080/",
          "height": 443
        },
        "id": "Z0_cB-AZh3mY",
        "outputId": "30d0d3c8-cb00-4966-8829-0809b1d8fa61"
      },
      "execution_count": 3,
      "outputs": [
        {
          "output_type": "execute_result",
          "data": {
            "text/plain": [
              "      subject#  age  sex  test_time  motor_UPDRS  total_UPDRS  Jitter(%)  \\\n",
              "0            1   72    0     5.6431       28.199       34.398    0.00662   \n",
              "1            1   72    0    12.6660       28.447       34.894    0.00300   \n",
              "2            1   72    0    19.6810       28.695       35.389    0.00481   \n",
              "3            1   72    0    25.6470       28.905       35.810    0.00528   \n",
              "4            1   72    0    33.6420       29.187       36.375    0.00335   \n",
              "...        ...  ...  ...        ...          ...          ...        ...   \n",
              "5870        42   61    0   142.7900       22.485       33.485    0.00406   \n",
              "5871        42   61    0   149.8400       21.988       32.988    0.00297   \n",
              "5872        42   61    0   156.8200       21.495       32.495    0.00349   \n",
              "5873        42   61    0   163.7300       21.007       32.007    0.00281   \n",
              "5874        42   61    0   170.7300       20.513       31.513    0.00282   \n",
              "\n",
              "      Jitter(Abs)  Jitter:RAP  Jitter:PPQ5  ...  Shimmer(dB)  Shimmer:APQ3  \\\n",
              "0        0.000034     0.00401      0.00317  ...        0.230       0.01438   \n",
              "1        0.000017     0.00132      0.00150  ...        0.179       0.00994   \n",
              "2        0.000025     0.00205      0.00208  ...        0.181       0.00734   \n",
              "3        0.000027     0.00191      0.00264  ...        0.327       0.01106   \n",
              "4        0.000020     0.00093      0.00130  ...        0.176       0.00679   \n",
              "...           ...         ...          ...  ...          ...           ...   \n",
              "5870     0.000031     0.00167      0.00168  ...        0.160       0.00973   \n",
              "5871     0.000025     0.00119      0.00147  ...        0.215       0.01052   \n",
              "5872     0.000025     0.00152      0.00187  ...        0.244       0.01371   \n",
              "5873     0.000020     0.00128      0.00151  ...        0.131       0.00693   \n",
              "5874     0.000021     0.00135      0.00166  ...        0.171       0.00946   \n",
              "\n",
              "      Shimmer:APQ5  Shimmer:APQ11  Shimmer:DDA       NHR     HNR     RPDE  \\\n",
              "0          0.01309        0.01662      0.04314  0.014290  21.640  0.41888   \n",
              "1          0.01072        0.01689      0.02982  0.011112  27.183  0.43493   \n",
              "2          0.00844        0.01458      0.02202  0.020220  23.047  0.46222   \n",
              "3          0.01265        0.01963      0.03317  0.027837  24.445  0.48730   \n",
              "4          0.00929        0.01819      0.02036  0.011625  26.126  0.47188   \n",
              "...            ...            ...          ...       ...     ...      ...   \n",
              "5870       0.01133        0.01549      0.02920  0.025137  22.369  0.64215   \n",
              "5871       0.01277        0.01904      0.03157  0.011927  22.886  0.52598   \n",
              "5872       0.01456        0.01877      0.04112  0.017701  25.065  0.47792   \n",
              "5873       0.00870        0.01307      0.02078  0.007984  24.422  0.56865   \n",
              "5874       0.01154        0.01470      0.02839  0.008172  23.259  0.58608   \n",
              "\n",
              "          DFA      PPE  \n",
              "0     0.54842  0.16006  \n",
              "1     0.56477  0.10810  \n",
              "2     0.54405  0.21014  \n",
              "3     0.57794  0.33277  \n",
              "4     0.56122  0.19361  \n",
              "...       ...      ...  \n",
              "5870  0.55314  0.21367  \n",
              "5871  0.56518  0.12621  \n",
              "5872  0.57888  0.14157  \n",
              "5873  0.56327  0.14204  \n",
              "5874  0.57077  0.15336  \n",
              "\n",
              "[5875 rows x 22 columns]"
            ],
            "text/html": [
              "\n",
              "  <div id=\"df-c6fba5d4-bdbd-4b5a-92e6-ccaadaeb13bf\" class=\"colab-df-container\">\n",
              "    <div>\n",
              "<style scoped>\n",
              "    .dataframe tbody tr th:only-of-type {\n",
              "        vertical-align: middle;\n",
              "    }\n",
              "\n",
              "    .dataframe tbody tr th {\n",
              "        vertical-align: top;\n",
              "    }\n",
              "\n",
              "    .dataframe thead th {\n",
              "        text-align: right;\n",
              "    }\n",
              "</style>\n",
              "<table border=\"1\" class=\"dataframe\">\n",
              "  <thead>\n",
              "    <tr style=\"text-align: right;\">\n",
              "      <th></th>\n",
              "      <th>subject#</th>\n",
              "      <th>age</th>\n",
              "      <th>sex</th>\n",
              "      <th>test_time</th>\n",
              "      <th>motor_UPDRS</th>\n",
              "      <th>total_UPDRS</th>\n",
              "      <th>Jitter(%)</th>\n",
              "      <th>Jitter(Abs)</th>\n",
              "      <th>Jitter:RAP</th>\n",
              "      <th>Jitter:PPQ5</th>\n",
              "      <th>...</th>\n",
              "      <th>Shimmer(dB)</th>\n",
              "      <th>Shimmer:APQ3</th>\n",
              "      <th>Shimmer:APQ5</th>\n",
              "      <th>Shimmer:APQ11</th>\n",
              "      <th>Shimmer:DDA</th>\n",
              "      <th>NHR</th>\n",
              "      <th>HNR</th>\n",
              "      <th>RPDE</th>\n",
              "      <th>DFA</th>\n",
              "      <th>PPE</th>\n",
              "    </tr>\n",
              "  </thead>\n",
              "  <tbody>\n",
              "    <tr>\n",
              "      <th>0</th>\n",
              "      <td>1</td>\n",
              "      <td>72</td>\n",
              "      <td>0</td>\n",
              "      <td>5.6431</td>\n",
              "      <td>28.199</td>\n",
              "      <td>34.398</td>\n",
              "      <td>0.00662</td>\n",
              "      <td>0.000034</td>\n",
              "      <td>0.00401</td>\n",
              "      <td>0.00317</td>\n",
              "      <td>...</td>\n",
              "      <td>0.230</td>\n",
              "      <td>0.01438</td>\n",
              "      <td>0.01309</td>\n",
              "      <td>0.01662</td>\n",
              "      <td>0.04314</td>\n",
              "      <td>0.014290</td>\n",
              "      <td>21.640</td>\n",
              "      <td>0.41888</td>\n",
              "      <td>0.54842</td>\n",
              "      <td>0.16006</td>\n",
              "    </tr>\n",
              "    <tr>\n",
              "      <th>1</th>\n",
              "      <td>1</td>\n",
              "      <td>72</td>\n",
              "      <td>0</td>\n",
              "      <td>12.6660</td>\n",
              "      <td>28.447</td>\n",
              "      <td>34.894</td>\n",
              "      <td>0.00300</td>\n",
              "      <td>0.000017</td>\n",
              "      <td>0.00132</td>\n",
              "      <td>0.00150</td>\n",
              "      <td>...</td>\n",
              "      <td>0.179</td>\n",
              "      <td>0.00994</td>\n",
              "      <td>0.01072</td>\n",
              "      <td>0.01689</td>\n",
              "      <td>0.02982</td>\n",
              "      <td>0.011112</td>\n",
              "      <td>27.183</td>\n",
              "      <td>0.43493</td>\n",
              "      <td>0.56477</td>\n",
              "      <td>0.10810</td>\n",
              "    </tr>\n",
              "    <tr>\n",
              "      <th>2</th>\n",
              "      <td>1</td>\n",
              "      <td>72</td>\n",
              "      <td>0</td>\n",
              "      <td>19.6810</td>\n",
              "      <td>28.695</td>\n",
              "      <td>35.389</td>\n",
              "      <td>0.00481</td>\n",
              "      <td>0.000025</td>\n",
              "      <td>0.00205</td>\n",
              "      <td>0.00208</td>\n",
              "      <td>...</td>\n",
              "      <td>0.181</td>\n",
              "      <td>0.00734</td>\n",
              "      <td>0.00844</td>\n",
              "      <td>0.01458</td>\n",
              "      <td>0.02202</td>\n",
              "      <td>0.020220</td>\n",
              "      <td>23.047</td>\n",
              "      <td>0.46222</td>\n",
              "      <td>0.54405</td>\n",
              "      <td>0.21014</td>\n",
              "    </tr>\n",
              "    <tr>\n",
              "      <th>3</th>\n",
              "      <td>1</td>\n",
              "      <td>72</td>\n",
              "      <td>0</td>\n",
              "      <td>25.6470</td>\n",
              "      <td>28.905</td>\n",
              "      <td>35.810</td>\n",
              "      <td>0.00528</td>\n",
              "      <td>0.000027</td>\n",
              "      <td>0.00191</td>\n",
              "      <td>0.00264</td>\n",
              "      <td>...</td>\n",
              "      <td>0.327</td>\n",
              "      <td>0.01106</td>\n",
              "      <td>0.01265</td>\n",
              "      <td>0.01963</td>\n",
              "      <td>0.03317</td>\n",
              "      <td>0.027837</td>\n",
              "      <td>24.445</td>\n",
              "      <td>0.48730</td>\n",
              "      <td>0.57794</td>\n",
              "      <td>0.33277</td>\n",
              "    </tr>\n",
              "    <tr>\n",
              "      <th>4</th>\n",
              "      <td>1</td>\n",
              "      <td>72</td>\n",
              "      <td>0</td>\n",
              "      <td>33.6420</td>\n",
              "      <td>29.187</td>\n",
              "      <td>36.375</td>\n",
              "      <td>0.00335</td>\n",
              "      <td>0.000020</td>\n",
              "      <td>0.00093</td>\n",
              "      <td>0.00130</td>\n",
              "      <td>...</td>\n",
              "      <td>0.176</td>\n",
              "      <td>0.00679</td>\n",
              "      <td>0.00929</td>\n",
              "      <td>0.01819</td>\n",
              "      <td>0.02036</td>\n",
              "      <td>0.011625</td>\n",
              "      <td>26.126</td>\n",
              "      <td>0.47188</td>\n",
              "      <td>0.56122</td>\n",
              "      <td>0.19361</td>\n",
              "    </tr>\n",
              "    <tr>\n",
              "      <th>...</th>\n",
              "      <td>...</td>\n",
              "      <td>...</td>\n",
              "      <td>...</td>\n",
              "      <td>...</td>\n",
              "      <td>...</td>\n",
              "      <td>...</td>\n",
              "      <td>...</td>\n",
              "      <td>...</td>\n",
              "      <td>...</td>\n",
              "      <td>...</td>\n",
              "      <td>...</td>\n",
              "      <td>...</td>\n",
              "      <td>...</td>\n",
              "      <td>...</td>\n",
              "      <td>...</td>\n",
              "      <td>...</td>\n",
              "      <td>...</td>\n",
              "      <td>...</td>\n",
              "      <td>...</td>\n",
              "      <td>...</td>\n",
              "      <td>...</td>\n",
              "    </tr>\n",
              "    <tr>\n",
              "      <th>5870</th>\n",
              "      <td>42</td>\n",
              "      <td>61</td>\n",
              "      <td>0</td>\n",
              "      <td>142.7900</td>\n",
              "      <td>22.485</td>\n",
              "      <td>33.485</td>\n",
              "      <td>0.00406</td>\n",
              "      <td>0.000031</td>\n",
              "      <td>0.00167</td>\n",
              "      <td>0.00168</td>\n",
              "      <td>...</td>\n",
              "      <td>0.160</td>\n",
              "      <td>0.00973</td>\n",
              "      <td>0.01133</td>\n",
              "      <td>0.01549</td>\n",
              "      <td>0.02920</td>\n",
              "      <td>0.025137</td>\n",
              "      <td>22.369</td>\n",
              "      <td>0.64215</td>\n",
              "      <td>0.55314</td>\n",
              "      <td>0.21367</td>\n",
              "    </tr>\n",
              "    <tr>\n",
              "      <th>5871</th>\n",
              "      <td>42</td>\n",
              "      <td>61</td>\n",
              "      <td>0</td>\n",
              "      <td>149.8400</td>\n",
              "      <td>21.988</td>\n",
              "      <td>32.988</td>\n",
              "      <td>0.00297</td>\n",
              "      <td>0.000025</td>\n",
              "      <td>0.00119</td>\n",
              "      <td>0.00147</td>\n",
              "      <td>...</td>\n",
              "      <td>0.215</td>\n",
              "      <td>0.01052</td>\n",
              "      <td>0.01277</td>\n",
              "      <td>0.01904</td>\n",
              "      <td>0.03157</td>\n",
              "      <td>0.011927</td>\n",
              "      <td>22.886</td>\n",
              "      <td>0.52598</td>\n",
              "      <td>0.56518</td>\n",
              "      <td>0.12621</td>\n",
              "    </tr>\n",
              "    <tr>\n",
              "      <th>5872</th>\n",
              "      <td>42</td>\n",
              "      <td>61</td>\n",
              "      <td>0</td>\n",
              "      <td>156.8200</td>\n",
              "      <td>21.495</td>\n",
              "      <td>32.495</td>\n",
              "      <td>0.00349</td>\n",
              "      <td>0.000025</td>\n",
              "      <td>0.00152</td>\n",
              "      <td>0.00187</td>\n",
              "      <td>...</td>\n",
              "      <td>0.244</td>\n",
              "      <td>0.01371</td>\n",
              "      <td>0.01456</td>\n",
              "      <td>0.01877</td>\n",
              "      <td>0.04112</td>\n",
              "      <td>0.017701</td>\n",
              "      <td>25.065</td>\n",
              "      <td>0.47792</td>\n",
              "      <td>0.57888</td>\n",
              "      <td>0.14157</td>\n",
              "    </tr>\n",
              "    <tr>\n",
              "      <th>5873</th>\n",
              "      <td>42</td>\n",
              "      <td>61</td>\n",
              "      <td>0</td>\n",
              "      <td>163.7300</td>\n",
              "      <td>21.007</td>\n",
              "      <td>32.007</td>\n",
              "      <td>0.00281</td>\n",
              "      <td>0.000020</td>\n",
              "      <td>0.00128</td>\n",
              "      <td>0.00151</td>\n",
              "      <td>...</td>\n",
              "      <td>0.131</td>\n",
              "      <td>0.00693</td>\n",
              "      <td>0.00870</td>\n",
              "      <td>0.01307</td>\n",
              "      <td>0.02078</td>\n",
              "      <td>0.007984</td>\n",
              "      <td>24.422</td>\n",
              "      <td>0.56865</td>\n",
              "      <td>0.56327</td>\n",
              "      <td>0.14204</td>\n",
              "    </tr>\n",
              "    <tr>\n",
              "      <th>5874</th>\n",
              "      <td>42</td>\n",
              "      <td>61</td>\n",
              "      <td>0</td>\n",
              "      <td>170.7300</td>\n",
              "      <td>20.513</td>\n",
              "      <td>31.513</td>\n",
              "      <td>0.00282</td>\n",
              "      <td>0.000021</td>\n",
              "      <td>0.00135</td>\n",
              "      <td>0.00166</td>\n",
              "      <td>...</td>\n",
              "      <td>0.171</td>\n",
              "      <td>0.00946</td>\n",
              "      <td>0.01154</td>\n",
              "      <td>0.01470</td>\n",
              "      <td>0.02839</td>\n",
              "      <td>0.008172</td>\n",
              "      <td>23.259</td>\n",
              "      <td>0.58608</td>\n",
              "      <td>0.57077</td>\n",
              "      <td>0.15336</td>\n",
              "    </tr>\n",
              "  </tbody>\n",
              "</table>\n",
              "<p>5875 rows × 22 columns</p>\n",
              "</div>\n",
              "    <div class=\"colab-df-buttons\">\n",
              "\n",
              "  <div class=\"colab-df-container\">\n",
              "    <button class=\"colab-df-convert\" onclick=\"convertToInteractive('df-c6fba5d4-bdbd-4b5a-92e6-ccaadaeb13bf')\"\n",
              "            title=\"Convert this dataframe to an interactive table.\"\n",
              "            style=\"display:none;\">\n",
              "\n",
              "  <svg xmlns=\"http://www.w3.org/2000/svg\" height=\"24px\" viewBox=\"0 -960 960 960\">\n",
              "    <path d=\"M120-120v-720h720v720H120Zm60-500h600v-160H180v160Zm220 220h160v-160H400v160Zm0 220h160v-160H400v160ZM180-400h160v-160H180v160Zm440 0h160v-160H620v160ZM180-180h160v-160H180v160Zm440 0h160v-160H620v160Z\"/>\n",
              "  </svg>\n",
              "    </button>\n",
              "\n",
              "  <style>\n",
              "    .colab-df-container {\n",
              "      display:flex;\n",
              "      gap: 12px;\n",
              "    }\n",
              "\n",
              "    .colab-df-convert {\n",
              "      background-color: #E8F0FE;\n",
              "      border: none;\n",
              "      border-radius: 50%;\n",
              "      cursor: pointer;\n",
              "      display: none;\n",
              "      fill: #1967D2;\n",
              "      height: 32px;\n",
              "      padding: 0 0 0 0;\n",
              "      width: 32px;\n",
              "    }\n",
              "\n",
              "    .colab-df-convert:hover {\n",
              "      background-color: #E2EBFA;\n",
              "      box-shadow: 0px 1px 2px rgba(60, 64, 67, 0.3), 0px 1px 3px 1px rgba(60, 64, 67, 0.15);\n",
              "      fill: #174EA6;\n",
              "    }\n",
              "\n",
              "    .colab-df-buttons div {\n",
              "      margin-bottom: 4px;\n",
              "    }\n",
              "\n",
              "    [theme=dark] .colab-df-convert {\n",
              "      background-color: #3B4455;\n",
              "      fill: #D2E3FC;\n",
              "    }\n",
              "\n",
              "    [theme=dark] .colab-df-convert:hover {\n",
              "      background-color: #434B5C;\n",
              "      box-shadow: 0px 1px 3px 1px rgba(0, 0, 0, 0.15);\n",
              "      filter: drop-shadow(0px 1px 2px rgba(0, 0, 0, 0.3));\n",
              "      fill: #FFFFFF;\n",
              "    }\n",
              "  </style>\n",
              "\n",
              "    <script>\n",
              "      const buttonEl =\n",
              "        document.querySelector('#df-c6fba5d4-bdbd-4b5a-92e6-ccaadaeb13bf button.colab-df-convert');\n",
              "      buttonEl.style.display =\n",
              "        google.colab.kernel.accessAllowed ? 'block' : 'none';\n",
              "\n",
              "      async function convertToInteractive(key) {\n",
              "        const element = document.querySelector('#df-c6fba5d4-bdbd-4b5a-92e6-ccaadaeb13bf');\n",
              "        const dataTable =\n",
              "          await google.colab.kernel.invokeFunction('convertToInteractive',\n",
              "                                                    [key], {});\n",
              "        if (!dataTable) return;\n",
              "\n",
              "        const docLinkHtml = 'Like what you see? Visit the ' +\n",
              "          '<a target=\"_blank\" href=https://colab.research.google.com/notebooks/data_table.ipynb>data table notebook</a>'\n",
              "          + ' to learn more about interactive tables.';\n",
              "        element.innerHTML = '';\n",
              "        dataTable['output_type'] = 'display_data';\n",
              "        await google.colab.output.renderOutput(dataTable, element);\n",
              "        const docLink = document.createElement('div');\n",
              "        docLink.innerHTML = docLinkHtml;\n",
              "        element.appendChild(docLink);\n",
              "      }\n",
              "    </script>\n",
              "  </div>\n",
              "\n",
              "\n",
              "<div id=\"df-888fde04-9a95-4435-b297-be0e237008f0\">\n",
              "  <button class=\"colab-df-quickchart\" onclick=\"quickchart('df-888fde04-9a95-4435-b297-be0e237008f0')\"\n",
              "            title=\"Suggest charts\"\n",
              "            style=\"display:none;\">\n",
              "\n",
              "<svg xmlns=\"http://www.w3.org/2000/svg\" height=\"24px\"viewBox=\"0 0 24 24\"\n",
              "     width=\"24px\">\n",
              "    <g>\n",
              "        <path d=\"M19 3H5c-1.1 0-2 .9-2 2v14c0 1.1.9 2 2 2h14c1.1 0 2-.9 2-2V5c0-1.1-.9-2-2-2zM9 17H7v-7h2v7zm4 0h-2V7h2v10zm4 0h-2v-4h2v4z\"/>\n",
              "    </g>\n",
              "</svg>\n",
              "  </button>\n",
              "\n",
              "<style>\n",
              "  .colab-df-quickchart {\n",
              "      --bg-color: #E8F0FE;\n",
              "      --fill-color: #1967D2;\n",
              "      --hover-bg-color: #E2EBFA;\n",
              "      --hover-fill-color: #174EA6;\n",
              "      --disabled-fill-color: #AAA;\n",
              "      --disabled-bg-color: #DDD;\n",
              "  }\n",
              "\n",
              "  [theme=dark] .colab-df-quickchart {\n",
              "      --bg-color: #3B4455;\n",
              "      --fill-color: #D2E3FC;\n",
              "      --hover-bg-color: #434B5C;\n",
              "      --hover-fill-color: #FFFFFF;\n",
              "      --disabled-bg-color: #3B4455;\n",
              "      --disabled-fill-color: #666;\n",
              "  }\n",
              "\n",
              "  .colab-df-quickchart {\n",
              "    background-color: var(--bg-color);\n",
              "    border: none;\n",
              "    border-radius: 50%;\n",
              "    cursor: pointer;\n",
              "    display: none;\n",
              "    fill: var(--fill-color);\n",
              "    height: 32px;\n",
              "    padding: 0;\n",
              "    width: 32px;\n",
              "  }\n",
              "\n",
              "  .colab-df-quickchart:hover {\n",
              "    background-color: var(--hover-bg-color);\n",
              "    box-shadow: 0 1px 2px rgba(60, 64, 67, 0.3), 0 1px 3px 1px rgba(60, 64, 67, 0.15);\n",
              "    fill: var(--button-hover-fill-color);\n",
              "  }\n",
              "\n",
              "  .colab-df-quickchart-complete:disabled,\n",
              "  .colab-df-quickchart-complete:disabled:hover {\n",
              "    background-color: var(--disabled-bg-color);\n",
              "    fill: var(--disabled-fill-color);\n",
              "    box-shadow: none;\n",
              "  }\n",
              "\n",
              "  .colab-df-spinner {\n",
              "    border: 2px solid var(--fill-color);\n",
              "    border-color: transparent;\n",
              "    border-bottom-color: var(--fill-color);\n",
              "    animation:\n",
              "      spin 1s steps(1) infinite;\n",
              "  }\n",
              "\n",
              "  @keyframes spin {\n",
              "    0% {\n",
              "      border-color: transparent;\n",
              "      border-bottom-color: var(--fill-color);\n",
              "      border-left-color: var(--fill-color);\n",
              "    }\n",
              "    20% {\n",
              "      border-color: transparent;\n",
              "      border-left-color: var(--fill-color);\n",
              "      border-top-color: var(--fill-color);\n",
              "    }\n",
              "    30% {\n",
              "      border-color: transparent;\n",
              "      border-left-color: var(--fill-color);\n",
              "      border-top-color: var(--fill-color);\n",
              "      border-right-color: var(--fill-color);\n",
              "    }\n",
              "    40% {\n",
              "      border-color: transparent;\n",
              "      border-right-color: var(--fill-color);\n",
              "      border-top-color: var(--fill-color);\n",
              "    }\n",
              "    60% {\n",
              "      border-color: transparent;\n",
              "      border-right-color: var(--fill-color);\n",
              "    }\n",
              "    80% {\n",
              "      border-color: transparent;\n",
              "      border-right-color: var(--fill-color);\n",
              "      border-bottom-color: var(--fill-color);\n",
              "    }\n",
              "    90% {\n",
              "      border-color: transparent;\n",
              "      border-bottom-color: var(--fill-color);\n",
              "    }\n",
              "  }\n",
              "</style>\n",
              "\n",
              "  <script>\n",
              "    async function quickchart(key) {\n",
              "      const quickchartButtonEl =\n",
              "        document.querySelector('#' + key + ' button');\n",
              "      quickchartButtonEl.disabled = true;  // To prevent multiple clicks.\n",
              "      quickchartButtonEl.classList.add('colab-df-spinner');\n",
              "      try {\n",
              "        const charts = await google.colab.kernel.invokeFunction(\n",
              "            'suggestCharts', [key], {});\n",
              "      } catch (error) {\n",
              "        console.error('Error during call to suggestCharts:', error);\n",
              "      }\n",
              "      quickchartButtonEl.classList.remove('colab-df-spinner');\n",
              "      quickchartButtonEl.classList.add('colab-df-quickchart-complete');\n",
              "    }\n",
              "    (() => {\n",
              "      let quickchartButtonEl =\n",
              "        document.querySelector('#df-888fde04-9a95-4435-b297-be0e237008f0 button');\n",
              "      quickchartButtonEl.style.display =\n",
              "        google.colab.kernel.accessAllowed ? 'block' : 'none';\n",
              "    })();\n",
              "  </script>\n",
              "</div>\n",
              "\n",
              "  <div id=\"id_68b4c7e5-07f6-4985-9bd7-8ac5556ce93b\">\n",
              "    <style>\n",
              "      .colab-df-generate {\n",
              "        background-color: #E8F0FE;\n",
              "        border: none;\n",
              "        border-radius: 50%;\n",
              "        cursor: pointer;\n",
              "        display: none;\n",
              "        fill: #1967D2;\n",
              "        height: 32px;\n",
              "        padding: 0 0 0 0;\n",
              "        width: 32px;\n",
              "      }\n",
              "\n",
              "      .colab-df-generate:hover {\n",
              "        background-color: #E2EBFA;\n",
              "        box-shadow: 0px 1px 2px rgba(60, 64, 67, 0.3), 0px 1px 3px 1px rgba(60, 64, 67, 0.15);\n",
              "        fill: #174EA6;\n",
              "      }\n",
              "\n",
              "      [theme=dark] .colab-df-generate {\n",
              "        background-color: #3B4455;\n",
              "        fill: #D2E3FC;\n",
              "      }\n",
              "\n",
              "      [theme=dark] .colab-df-generate:hover {\n",
              "        background-color: #434B5C;\n",
              "        box-shadow: 0px 1px 3px 1px rgba(0, 0, 0, 0.15);\n",
              "        filter: drop-shadow(0px 1px 2px rgba(0, 0, 0, 0.3));\n",
              "        fill: #FFFFFF;\n",
              "      }\n",
              "    </style>\n",
              "    <button class=\"colab-df-generate\" onclick=\"generateWithVariable('df')\"\n",
              "            title=\"Generate code using this dataframe.\"\n",
              "            style=\"display:none;\">\n",
              "\n",
              "  <svg xmlns=\"http://www.w3.org/2000/svg\" height=\"24px\"viewBox=\"0 0 24 24\"\n",
              "       width=\"24px\">\n",
              "    <path d=\"M7,19H8.4L18.45,9,17,7.55,7,17.6ZM5,21V16.75L18.45,3.32a2,2,0,0,1,2.83,0l1.4,1.43a1.91,1.91,0,0,1,.58,1.4,1.91,1.91,0,0,1-.58,1.4L9.25,21ZM18.45,9,17,7.55Zm-12,3A5.31,5.31,0,0,0,4.9,8.1,5.31,5.31,0,0,0,1,6.5,5.31,5.31,0,0,0,4.9,4.9,5.31,5.31,0,0,0,6.5,1,5.31,5.31,0,0,0,8.1,4.9,5.31,5.31,0,0,0,12,6.5,5.46,5.46,0,0,0,6.5,12Z\"/>\n",
              "  </svg>\n",
              "    </button>\n",
              "    <script>\n",
              "      (() => {\n",
              "      const buttonEl =\n",
              "        document.querySelector('#id_68b4c7e5-07f6-4985-9bd7-8ac5556ce93b button.colab-df-generate');\n",
              "      buttonEl.style.display =\n",
              "        google.colab.kernel.accessAllowed ? 'block' : 'none';\n",
              "\n",
              "      buttonEl.onclick = () => {\n",
              "        google.colab.notebook.generateWithVariable('df');\n",
              "      }\n",
              "      })();\n",
              "    </script>\n",
              "  </div>\n",
              "\n",
              "    </div>\n",
              "  </div>\n"
            ],
            "application/vnd.google.colaboratory.intrinsic+json": {
              "type": "dataframe",
              "variable_name": "df"
            }
          },
          "metadata": {},
          "execution_count": 3
        }
      ]
    },
    {
      "cell_type": "markdown",
      "source": [
        "**Dropping the null values:**"
      ],
      "metadata": {
        "id": "xINJ1c5orHRy"
      }
    },
    {
      "cell_type": "code",
      "source": [
        "print(df.isnull().sum())\n",
        "\n",
        "df = df.dropna()"
      ],
      "metadata": {
        "colab": {
          "base_uri": "https://localhost:8080/"
        },
        "id": "4TN0vntgh4J9",
        "outputId": "102627df-2c7b-4782-9059-6ec4ae40faf3"
      },
      "execution_count": 4,
      "outputs": [
        {
          "output_type": "stream",
          "name": "stdout",
          "text": [
            "subject#         0\n",
            "age              0\n",
            "sex              0\n",
            "test_time        0\n",
            "motor_UPDRS      0\n",
            "total_UPDRS      0\n",
            "Jitter(%)        0\n",
            "Jitter(Abs)      0\n",
            "Jitter:RAP       0\n",
            "Jitter:PPQ5      0\n",
            "Jitter:DDP       0\n",
            "Shimmer          0\n",
            "Shimmer(dB)      0\n",
            "Shimmer:APQ3     0\n",
            "Shimmer:APQ5     0\n",
            "Shimmer:APQ11    0\n",
            "Shimmer:DDA      0\n",
            "NHR              0\n",
            "HNR              0\n",
            "RPDE             0\n",
            "DFA              0\n",
            "PPE              0\n",
            "dtype: int64\n"
          ]
        }
      ]
    },
    {
      "cell_type": "markdown",
      "source": [
        "**Removing the Column subject#** since it contains only ID which are not required for the dataset"
      ],
      "metadata": {
        "id": "NylJJ7pGrPrq"
      }
    },
    {
      "cell_type": "code",
      "source": [
        "df = df.drop(columns=[\"subject#\"])"
      ],
      "metadata": {
        "id": "tpGOTeaPh-On"
      },
      "execution_count": 5,
      "outputs": []
    },
    {
      "cell_type": "markdown",
      "source": [
        "**Encoding Male and Female into 0's and 1's** also counting them"
      ],
      "metadata": {
        "id": "AWQESO6Srdk6"
      }
    },
    {
      "cell_type": "code",
      "source": [
        "print(df[\"sex\"].value_counts())"
      ],
      "metadata": {
        "colab": {
          "base_uri": "https://localhost:8080/"
        },
        "id": "a5SuZMAPiDWI",
        "outputId": "a29f82ae-e62d-45cb-a346-d96bf49af1c8"
      },
      "execution_count": 6,
      "outputs": [
        {
          "output_type": "stream",
          "name": "stdout",
          "text": [
            "sex\n",
            "0    4008\n",
            "1    1867\n",
            "Name: count, dtype: int64\n"
          ]
        }
      ]
    },
    {
      "cell_type": "markdown",
      "source": [
        "**Getting Feature Shape and Target Shape**"
      ],
      "metadata": {
        "id": "49TjUi0kr5nq"
      }
    },
    {
      "cell_type": "code",
      "source": [
        "X = df.drop(columns=[\"total_UPDRS\", \"motor_UPDRS\"])\n",
        "\n",
        "\n",
        "y = df[\"total_UPDRS\"]\n",
        "\n",
        "\n",
        "print(\"Features shape:\", X.shape)\n",
        "print(\"Target shape:\", y.shape)"
      ],
      "metadata": {
        "colab": {
          "base_uri": "https://localhost:8080/"
        },
        "id": "ELYIhNfIiGP4",
        "outputId": "69fcf903-d906-4ce6-ac38-0688bf2f75b9"
      },
      "execution_count": 7,
      "outputs": [
        {
          "output_type": "stream",
          "name": "stdout",
          "text": [
            "Features shape: (5875, 19)\n",
            "Target shape: (5875,)\n"
          ]
        }
      ]
    },
    {
      "cell_type": "markdown",
      "source": [
        "**Scaling the dataset using Standard Scaler**"
      ],
      "metadata": {
        "id": "loWJQWSysBOK"
      }
    },
    {
      "cell_type": "code",
      "source": [
        "scaler = StandardScaler()\n",
        "X_scaled = scaler.fit_transform(X)\n",
        "\n",
        "X = pd.DataFrame(X_scaled, columns=X.columns)\n"
      ],
      "metadata": {
        "id": "nVSEYAcYiTGw"
      },
      "execution_count": 40,
      "outputs": []
    },
    {
      "cell_type": "markdown",
      "source": [
        "**Splitting the dataset into Train and Test**"
      ],
      "metadata": {
        "id": "Y0MGjftVsG77"
      }
    },
    {
      "cell_type": "code",
      "source": [
        "X_train, X_test, y_train, y_test = train_test_split(X, y, test_size=0.2, random_state=42)\n",
        "\n",
        "print(\"Training set:\", X_train.shape, y_train.shape)\n",
        "print(\"Testing set:\", X_test.shape, y_test.shape)\n"
      ],
      "metadata": {
        "colab": {
          "base_uri": "https://localhost:8080/"
        },
        "id": "25wp0gm9iXX_",
        "outputId": "a03b92e5-f5d5-46ad-a445-4c78c504f42b"
      },
      "execution_count": 41,
      "outputs": [
        {
          "output_type": "stream",
          "name": "stdout",
          "text": [
            "Training set: (4700, 19) (4700,)\n",
            "Testing set: (1175, 19) (1175,)\n"
          ]
        }
      ]
    },
    {
      "cell_type": "markdown",
      "source": [
        "**Using Random Forest Regressor**"
      ],
      "metadata": {
        "id": "RxIN_Y6tsp5K"
      }
    },
    {
      "cell_type": "code",
      "source": [
        "rf_model = RandomForestRegressor(n_estimators=100, random_state=42)\n",
        "rf_model.fit(X_train, y_train.values.ravel())\n",
        "y_pred_rf = rf_model.predict(X_test)"
      ],
      "metadata": {
        "id": "fEzQ5-ilkLgR"
      },
      "execution_count": 18,
      "outputs": []
    },
    {
      "source": [
        "regressor = RandomForestRegressor(n_estimators=100, random_state=42) # Initialize the regressor\n",
        "regressor.fit(X_train, y_train) # Train the regressor\n",
        "y_pred = regressor.predict(X_test) # Make predictions"
      ],
      "cell_type": "code",
      "metadata": {
        "id": "6WtR4TsComF6"
      },
      "execution_count": 30,
      "outputs": []
    },
    {
      "cell_type": "markdown",
      "source": [
        "**Calculating Mean Absolute Error, Root Mean Square Error and Coefficient of Determination**"
      ],
      "metadata": {
        "id": "1Zws_0Lhs31y"
      }
    },
    {
      "cell_type": "code",
      "source": [
        "MAE = mean_absolute_error(y_test, y_pred)\n",
        "RMSE = np.sqrt(mean_squared_error(y_test, y_pred))\n",
        "r2_rf = r2_score(y_test, y_pred)\n",
        "\n",
        "MAPE = np.mean(np.abs((np.array(y_test) - np.array(y_pred)) / np.array(y_test))) * 100\n",
        "accuracy = 100 - MAPE\n",
        "\n",
        "\n",
        "print(f\"Random Forest Regressor:\")\n",
        "print(f\"MAE: {MAE:.4f}\")\n",
        "print(f\"RMSE: {RMSE:.4f}\")\n",
        "print(f\"R² Score: {r2_rf:.4f}\")\n",
        "print(f\"Accuracy: {accuracy:.2f}%\")\n"
      ],
      "metadata": {
        "colab": {
          "base_uri": "https://localhost:8080/"
        },
        "id": "WyQrkLF5mZ62",
        "outputId": "8072adc9-b065-438a-95ac-054f370ab30b"
      },
      "execution_count": 38,
      "outputs": [
        {
          "output_type": "stream",
          "name": "stdout",
          "text": [
            "Random Forest Regressor:\n",
            "MAE: 0.7165\n",
            "RMSE: 1.6046\n",
            "R² Score: 0.9768\n",
            "Accuracy: 96.53%\n"
          ]
        }
      ]
    },
    {
      "cell_type": "markdown",
      "source": [],
      "metadata": {
        "id": "nfstYtOUtOu7"
      }
    },
    {
      "cell_type": "code",
      "source": [],
      "metadata": {
        "id": "PGLGuOtTqOxD"
      },
      "execution_count": null,
      "outputs": []
    }
  ]
}